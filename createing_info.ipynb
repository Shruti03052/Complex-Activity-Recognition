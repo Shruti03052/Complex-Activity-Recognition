{
 "cells": [
  {
   "cell_type": "code",
   "execution_count": 18,
   "metadata": {},
   "outputs": [
    {
     "name": "stdout",
     "output_type": "stream",
     "text": [
      "Info CSV generated: info.csv\n"
     ]
    }
   ],
   "source": [
    "import os\n",
    "import pandas as pd\n",
    "from datetime import datetime\n",
    "\n",
    "# Set the directory path to the dataset folder\n",
    "dataset_dir =  r'C:\\Users\\Shruti\\Desktop\\complex_Activity_dc\\Dataset'\n",
    "\n",
    "output_file = 'info.csv'\n",
    "\n",
    "# Initialize a list to store information\n",
    "data_info = []\n",
    "\n",
    "# Loop through each person's folder (P0, P1, ..., P29)\n",
    "for person_folder in os.listdir(dataset_dir):\n",
    "    person_path = os.path.join(dataset_dir, person_folder)\n",
    "    \n",
    "    # Check if it is a folder (in case there are non-folder files)\n",
    "    if os.path.isdir(person_path):\n",
    "        earbuds_path = os.path.join(person_path, 'EARBUDS')\n",
    "        #print(earbuds_path)\n",
    "        \n",
    "        # Loop through the files in the EARBUDS folder\n",
    "        for file in os.listdir(earbuds_path):\n",
    "            if 'imu-left' in file or 'imu-right' in file:\n",
    "                # Only process IMU files (both left and right)\n",
    "                file_path = os.path.join(earbuds_path, file)\n",
    "                \n",
    "                # Read the CSV file into a DataFrame\n",
    "                imu_data = pd.read_csv(file_path)\n",
    "                imu_data.sort_values(by='timestamp', inplace=True)\n",
    "                imu_data.reset_index(drop=True, inplace=True)\n",
    "                \n",
    "                # Assuming the first column is timestamp (adjust if necessary)\n",
    "                start_time = imu_data.iloc[0, 0]\n",
    "                end_time = imu_data.iloc[-1, 0]\n",
    "                start_time_human = datetime.fromtimestamp(start_time / 1000).strftime('%Y-%m-%d %H:%M:%S')\n",
    "                end_time_human = datetime.fromtimestamp(end_time/ 1000).strftime('%Y-%m-%d %H:%M:%S')\n",
    "                \n",
    "                # Extract activity from the filename (e.g., 'brow-lowerer')\n",
    "                activity = '-'.join(file.split('-')[1:-2])\n",
    "               # activity = file.split('-')[1]\n",
    "                \n",
    "                # Append the extracted information to the list\n",
    "                data_info.append({\n",
    "                    'Person': person_folder,\n",
    "                    'Activity': activity,\n",
    "                    'IMU_Side': 'left' if 'imu-left' in file else 'right',\n",
    "                    'Start_Time': start_time,\n",
    "                    'End_Time': end_time,\n",
    "                    'start_time_human_readable':start_time_human,\n",
    "                    'end_time_human_readable':end_time_human\n",
    "                })\n",
    "\n",
    "# Create a DataFrame from the collected information\n",
    "info_df = pd.DataFrame(data_info)\n",
    "\n",
    "# Save the DataFrame to a CSV file\n",
    "info_df.to_csv(output_file, index=False)\n",
    "\n",
    "print(f\"Info CSV generated: {output_file}\")"
   ]
  },
  {
   "cell_type": "code",
   "execution_count": 2,
   "metadata": {},
   "outputs": [
    {
     "name": "stdout",
     "output_type": "stream",
     "text": [
      "All activities have an End_Time greater than Start_Time.\n"
     ]
    }
   ],
   "source": [
    "\n",
    "# Load the info.csv file\n",
    "info_file = r'C:\\Users\\Shruti\\Desktop\\complex_Activity_dc\\info.csv'\n",
    "\n",
    "# Read the CSV into a DataFrame\n",
    "info_df = pd.read_csv(info_file)\n",
    "\n",
    "# Check if 'End_Time' is after 'Start_Time' for all rows\n",
    "invalid_entries = info_df[info_df['End_Time'] <= info_df['Start_Time']]\n",
    "\n",
    "if invalid_entries.empty:\n",
    "    print(\"All activities have an End_Time greater than Start_Time.\")\n",
    "else:\n",
    "    print(\"Some activities have End_Time less than or equal to Start_Time.\")\n",
    "    print(invalid_entries)\n"
   ]
  }
 ],
 "metadata": {
  "kernelspec": {
   "display_name": "Python 3",
   "language": "python",
   "name": "python3"
  },
  "language_info": {
   "codemirror_mode": {
    "name": "ipython",
    "version": 3
   },
   "file_extension": ".py",
   "mimetype": "text/x-python",
   "name": "python",
   "nbconvert_exporter": "python",
   "pygments_lexer": "ipython3",
   "version": "3.11.9"
  }
 },
 "nbformat": 4,
 "nbformat_minor": 2
}
