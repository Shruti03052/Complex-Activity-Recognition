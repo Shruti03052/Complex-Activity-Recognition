{
 "cells": [
  {
   "cell_type": "code",
   "execution_count": 20,
   "metadata": {},
   "outputs": [
    {
     "name": "stdout",
     "output_type": "stream",
     "text": [
      "Labeled info CSV generated: C:\\Users\\Shruti\\Desktop\\complex_Activity_dc\\info_with_labels.csv\n"
     ]
    }
   ],
   "source": [
    "import pandas as pd\n",
    "\n",
    "# Load the info.csv file\n",
    "info_file = r'C:\\Users\\Shruti\\Desktop\\complex_Activity_dc\\info.csv'\n",
    "\n",
    "# Read the CSV into a DataFrame\n",
    "info_df = pd.read_csv(info_file)\n",
    "\n",
    "# Create a dictionary to map activities to labels (you can customize this)\n",
    "activity_labels = {\n",
    "    'brow-raiser': 2,\n",
    "    'brow-lowerer': 1,\n",
    "    'chewing': 3,\n",
    "    'chin-raiser': 4,\n",
    "    'eyes-lr': 5,\n",
    "    'eyes-ud':6,\n",
    "    'lip-puller':7,\n",
    "    'mouth-stretch':8,\n",
    "    'nod':9,\n",
    "    'running':10,\n",
    "    'shake':11,\n",
    "    'speaking':12,\n",
    "    'still':13,\n",
    "    'swallowing':14,\n",
    "    'tilt':15,\n",
    "    'walking':16,\n",
    "    'wink-l':17,\n",
    "    'wink-r':18\n",
    "    # Add all other activities and their corresponding labels\n",
    "}\n",
    "\n",
    "# Apply the mapping to the 'Activity' column to create a new 'Activity_Label' column\n",
    "info_df['Activity_Label'] = info_df['Activity'].map(activity_labels)\n",
    "\n",
    "# Save the updated DataFrame back to a CSV file\n",
    "output_file = r'C:\\Users\\Shruti\\Desktop\\complex_Activity_dc\\info_with_labels.csv'\n",
    "info_df.to_csv(output_file, index=False)\n",
    "\n",
    "print(f\"Labeled info CSV generated: {output_file}\")\n"
   ]
  },
  {
   "cell_type": "code",
   "execution_count": 14,
   "metadata": {},
   "outputs": [
    {
     "name": "stdout",
     "output_type": "stream",
     "text": [
      "Rows with NaN values in 'Activity_Label':\n",
      "    Person               Activity IMU_Side     Start_Time       End_Time  \\\n",
      "270    P15              running-1     left  1622623639787  1622623759903   \n",
      "271    P15              running-1    right  1622623639866  1622623760807   \n",
      "272    P15              running-2     left  1622623830186  1622623950176   \n",
      "273    P15              running-2    right  1622623830282  1622623951098   \n",
      "290    P15               wink-r-1     left  1622622226030  1622622346194   \n",
      "291    P15               wink-r-1    right  1622622226045  1622622347149   \n",
      "294    P16              acc-calib     left  1622621323226  1622621409329   \n",
      "295    P16              acc-calib    right  1622621323255  1622621409331   \n",
      "304    P16  earable-zephyr-sync-2     left  1622621702547  1622621773170   \n",
      "305    P16  earable-zephyr-sync-2    right  1622621702592  1622621773196   \n",
      "306    P16    earable-zephyr-sync     left  1622621632478  1622621839346   \n",
      "307    P16    earable-zephyr-sync    right  1622621632517  1622621839317   \n",
      "312    P16             gyro-calib     left  1622621237814  1622621310298   \n",
      "313    P16             gyro-calib    right  1622621237841  1622621310298   \n",
      "320    P16           ppg-imu-sync     left  1622621427271  1622621532138   \n",
      "321    P16           ppg-imu-sync    right  1622621427306  1622621532140   \n",
      "\n",
      "    start_time_human_readable end_time_human_readable  Activity_Label  \n",
      "270       2021-06-02 14:17:19     2021-06-02 14:19:19             NaN  \n",
      "271       2021-06-02 14:17:19     2021-06-02 14:19:20             NaN  \n",
      "272       2021-06-02 14:20:30     2021-06-02 14:22:30             NaN  \n",
      "273       2021-06-02 14:20:30     2021-06-02 14:22:31             NaN  \n",
      "290       2021-06-02 13:53:46     2021-06-02 13:55:46             NaN  \n",
      "291       2021-06-02 13:53:46     2021-06-02 13:55:47             NaN  \n",
      "294       2021-06-02 13:38:43     2021-06-02 13:40:09             NaN  \n",
      "295       2021-06-02 13:38:43     2021-06-02 13:40:09             NaN  \n",
      "304       2021-06-02 13:45:02     2021-06-02 13:46:13             NaN  \n",
      "305       2021-06-02 13:45:02     2021-06-02 13:46:13             NaN  \n",
      "306       2021-06-02 13:43:52     2021-06-02 13:47:19             NaN  \n",
      "307       2021-06-02 13:43:52     2021-06-02 13:47:19             NaN  \n",
      "312       2021-06-02 13:37:17     2021-06-02 13:38:30             NaN  \n",
      "313       2021-06-02 13:37:17     2021-06-02 13:38:30             NaN  \n",
      "320       2021-06-02 13:40:27     2021-06-02 13:42:12             NaN  \n",
      "321       2021-06-02 13:40:27     2021-06-02 13:42:12             NaN  \n"
     ]
    }
   ],
   "source": [
    "import pandas as pd\n",
    "\n",
    "# Load the file with labels\n",
    "info_with_labels_file = r'C:\\Users\\Shruti\\Desktop\\complex_Activity_dc\\info_with_labels.csv'\n",
    "\n",
    "# Read the CSV into a DataFrame\n",
    "info_df = pd.read_csv(info_with_labels_file)\n",
    "\n",
    "# Find rows where 'Activity_Label' has NaN values\n",
    "nan_rows = info_df[info_df['Activity_Label'].isna()]\n",
    "\n",
    "# Check if there are any NaN values\n",
    "\n",
    "if not nan_rows.empty:\n",
    "    print(\"Rows with NaN values in 'Activity_Label':\")\n",
    "    print(nan_rows)\n",
    "    \n",
    "    \n",
    "else:\n",
    "    print(\"No NaN values found in 'Activity_Label'.\")\n",
    "\n"
   ]
  },
  {
   "cell_type": "code",
   "execution_count": 17,
   "metadata": {},
   "outputs": [
    {
     "name": "stdout",
     "output_type": "stream",
     "text": [
      "File cleaned and saved as C:\\Users\\Shruti\\Desktop\\complex_Activity_dc\\info_with_labels.csv\n"
     ]
    }
   ],
   "source": [
    "import pandas as pd\n",
    "\n",
    "# Load the file with labels\n",
    "info_with_labels_file = r'C:\\Users\\Shruti\\Desktop\\complex_Activity_dc\\info_with_labels.csv'\n",
    "\n",
    "# Read the CSV into a DataFrame\n",
    "info_df = pd.read_csv(info_with_labels_file)\n",
    "\n",
    "# Drop rows where 'Activity_Label' has NaN values\n",
    "info_df_cleaned = info_df.dropna(subset=['Activity_Label'])\n",
    "\n",
    "# Overwrite the original CSV file with the cleaned DataFrame\n",
    "info_df_cleaned.to_csv(info_with_labels_file, index=False)\n",
    "\n",
    "print(f\"File cleaned and saved as {info_with_labels_file}\")\n"
   ]
  },
  {
   "cell_type": "code",
   "execution_count": 18,
   "metadata": {},
   "outputs": [
    {
     "name": "stdout",
     "output_type": "stream",
     "text": [
      "No NaN values found in 'Activity_Label'.\n"
     ]
    }
   ],
   "source": [
    "info_df = pd.read_csv(info_with_labels_file)\n",
    "\n",
    "# Find rows where 'Activity_Label' has NaN values\n",
    "nan_rows = info_df[info_df['Activity_Label'].isna()]\n",
    "\n",
    "# Check if there are any NaN values\n",
    "\n",
    "if not nan_rows.empty:\n",
    "    print(\"Rows with NaN values in 'Activity_Label':\")\n",
    "    print(nan_rows)\n",
    "    \n",
    "    \n",
    "else:\n",
    "    print(\"No NaN values found in 'Activity_Label'.\")"
   ]
  },
  {
   "cell_type": "code",
   "execution_count": 23,
   "metadata": {},
   "outputs": [
    {
     "name": "stdout",
     "output_type": "stream",
     "text": [
      "File cleaned and labels converted to integers, saved as C:\\Users\\Shruti\\Desktop\\complex_Activity_dc\\info_with_labels.csv\n"
     ]
    }
   ],
   "source": [
    "import pandas as pd\n",
    "\n",
    "# Load the file with labels\n",
    "info_with_labels_file = r'C:\\Users\\Shruti\\Desktop\\complex_Activity_dc\\info_with_labels.csv'\n",
    "\n",
    "# Read the CSV into a DataFrame\n",
    "info_df = pd.read_csv(info_with_labels_file)\n",
    "\n",
    "# Drop rows where 'Activity_Label' has NaN values\n",
    "\n",
    "\n",
    "# Convert 'Activity_Label' to integers\n",
    "info_df_cleaned['Activity_Label'] = info_df_cleaned['Activity_Label'].astype(int)\n",
    "\n",
    "# Overwrite the original CSV file with the cleaned and updated DataFrame\n",
    "info_df_cleaned.to_csv(info_with_labels_file, index=False)\n",
    "\n",
    "print(f\"File cleaned and labels converted to integers, saved as {info_with_labels_file}\")\n"
   ]
  }
 ],
 "metadata": {
  "kernelspec": {
   "display_name": "Python 3",
   "language": "python",
   "name": "python3"
  },
  "language_info": {
   "codemirror_mode": {
    "name": "ipython",
    "version": 3
   },
   "file_extension": ".py",
   "mimetype": "text/x-python",
   "name": "python",
   "nbconvert_exporter": "python",
   "pygments_lexer": "ipython3",
   "version": "3.11.9"
  }
 },
 "nbformat": 4,
 "nbformat_minor": 2
}
